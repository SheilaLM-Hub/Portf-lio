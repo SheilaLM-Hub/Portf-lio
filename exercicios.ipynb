{
  "nbformat": 4,
  "nbformat_minor": 0,
  "metadata": {
    "colab": {
      "provenance": [],
      "authorship_tag": "ABX9TyPtmXspS6o72//FHaUEaqcG",
      "include_colab_link": true
    },
    "kernelspec": {
      "name": "python3",
      "display_name": "Python 3"
    },
    "language_info": {
      "name": "python"
    }
  },
  "cells": [
    {
      "cell_type": "markdown",
      "metadata": {
        "id": "view-in-github",
        "colab_type": "text"
      },
      "source": [
        "<a href=\"https://colab.research.google.com/github/SheilaLM-Hub/Portfolio/blob/main/exercicios.ipynb\" target=\"_parent\"><img src=\"https://colab.research.google.com/assets/colab-badge.svg\" alt=\"Open In Colab\"/></a>"
      ]
    },
    {
      "cell_type": "markdown",
      "source": [
        "# **Exercicios**"
      ],
      "metadata": {
        "id": "GoHZki39sLxj"
      }
    },
    {
      "cell_type": "code",
      "execution_count": 2,
      "metadata": {
        "colab": {
          "base_uri": "https://localhost:8080/"
        },
        "id": "Basbf2O8ruxL",
        "outputId": "e1ab83e9-589a-416f-ad75-4c58251fcec9"
      },
      "outputs": [
        {
          "output_type": "stream",
          "name": "stdout",
          "text": [
            "2\n",
            "4\n",
            "6\n",
            "8\n",
            "10\n",
            "12\n",
            "14\n",
            "16\n",
            "18\n",
            "20\n"
          ]
        }
      ],
      "source": [
        "# Exercício 1 - Crie uma função que imprima a sequência de números pares entre 1 e 20 (a função não recebe parâmetro)\n",
        "# e depois faça uma chamada à função para listar os números.\n",
        "\n",
        "def num_pares():\n",
        "  for i in range(2, 21, 2):\n",
        "    print(i)\n",
        "\n",
        "num_pares()\n"
      ]
    },
    {
      "cell_type": "code",
      "source": [
        "# Exercício 2 - Crie uam função que receba uma string como argumento e retorne a mesma string em letras maiúsculas.\n",
        "# Faça uma chamada à função, passando como parâmetro uma string\n",
        "\n",
        "def str_maiuscula(texto):\n",
        "  return texto.upper()\n",
        "\n",
        "print(str_maiuscula(\"Aprendendo\"))"
      ],
      "metadata": {
        "colab": {
          "base_uri": "https://localhost:8080/"
        },
        "id": "NKNRz931t3sE",
        "outputId": "7ad86ab4-fa38-4e05-8be8-3b324d9cd169"
      },
      "execution_count": 10,
      "outputs": [
        {
          "output_type": "stream",
          "name": "stdout",
          "text": [
            "APRENDENDO\n"
          ]
        }
      ]
    },
    {
      "cell_type": "code",
      "source": [
        "# Exercício 3 - Crie uma função que receba como parâmetro uma lista de 4 elementos, adicione 2 elementos a lista e\n",
        "# # imprima a lista\n",
        "\n",
        "def elementos_lista(list):\n",
        "  list.append(\"elemento5\")\n",
        "  list.append(\"elemento6\")\n",
        "  print(list1)\n",
        "\n",
        "list1 = [\"elemento1\", \"elemento2\", \"elemento3\", \"elemento4\"]\n",
        "elementos_lista(list1)\n",
        "\n"
      ],
      "metadata": {
        "colab": {
          "base_uri": "https://localhost:8080/"
        },
        "id": "9DbbEIxzuDfJ",
        "outputId": "d86b06a9-6a62-4d58-fdaf-e4bf9b83d219"
      },
      "execution_count": 11,
      "outputs": [
        {
          "output_type": "stream",
          "name": "stdout",
          "text": [
            "['elemento1', 'elemento2', 'elemento3', 'elemento4', 'elemento5', 'elemento6']\n"
          ]
        }
      ]
    },
    {
      "cell_type": "code",
      "source": [
        "# Exercício 4 - Crie uma função que receba um argumento formal e uma possível lista de elementos. Faça duas chamadas\n",
        "# # à função, com apenas 1 elemento e na segunda chamada com 4 elementos\n",
        "\n",
        "def func_variavel(*args):\n",
        "  print(args)\n",
        "\n",
        "func_variavel(1)\n",
        "func_variavel(1, 2, 3, 4)\n"
      ],
      "metadata": {
        "colab": {
          "base_uri": "https://localhost:8080/"
        },
        "id": "pt7-W6OT8lOO",
        "outputId": "8def7070-971f-41ad-ed6b-d23bbb428533"
      },
      "execution_count": 12,
      "outputs": [
        {
          "output_type": "stream",
          "name": "stdout",
          "text": [
            "(1,)\n",
            "(1, 2, 3, 4)\n"
          ]
        }
      ]
    },
    {
      "cell_type": "code",
      "source": [
        "# Exercício 5 - Crie uma função anônima e atribua seu retorno a uma variável chamada soma. A expressão vai receber 2\n",
        "# # números como parâmetro e retornar a soma deles\n",
        "\n",
        "soma = lambda x, y: x + y\n"
      ],
      "metadata": {
        "id": "F1Nsp_If9Qze"
      },
      "execution_count": 13,
      "outputs": []
    },
    {
      "cell_type": "code",
      "source": [
        "# Exercício 7 - Abaixo você encontra uma lista com temperaturas em graus Celsius\n",
        "# Crie uma função anônima que converta cada temperatura para Fahrenheit\n",
        "# Dica: para conseguir realizar este exercício, você deve criar sua função lambda, dentro de uma função\n",
        "# (que será estudada no próximo capítulo). Isso permite aplicar sua função a cada elemento da lista\n",
        "# Como descobrir a fórmula matemática que converte de Celsius para Fahrenheit? Pesquise!!!\n",
        "Celsius = [39.2, 36.5, 37.3, 37.8]\n",
        "Fahrenheit = map(coloque_aqui_sua_função_lambda)\n",
        "print (list(Fahrenheit))\n",
        "\n",
        "Celsius = [39.2, 36.5, 37.3, 37.8]\n",
        "\n",
        "# Função lambda para converter de Celsius para Fahrenheit\n",
        "conversor_fahrenheit = lambda celsius: (celsius * (9/5)) + 32\n",
        "\n",
        "# Aplicando a função lambda à lista Celsius e convertendo para Fahrenheit\n",
        "Fahrenheit = map(conversor_fahrenheit, Celsius)\n",
        "\n",
        "# Convertendo o objeto map em uma lista\n",
        "Fahrenheit_lista = list(Fahrenheit)\n",
        "\n",
        "# Imprimindo a lista Fahrenheit\n",
        "print(Fahrenheit_lista)\n"
      ],
      "metadata": {
        "colab": {
          "base_uri": "https://localhost:8080/"
        },
        "id": "9mi27DxG9k7-",
        "outputId": "d023a27a-a8a6-4209-c725-b9b019982ff9"
      },
      "execution_count": 14,
      "outputs": [
        {
          "output_type": "stream",
          "name": "stdout",
          "text": [
            "[102.56, 97.7, 99.14, 100.03999999999999]\n"
          ]
        }
      ]
    },
    {
      "cell_type": "code",
      "source": [
        "# Exercício 8 - Crie uma list comprehension que imprima o quadrado dos números de 1 a 10\n",
        "# [x**2 for x in range(1,11)]\n",
        "\n",
        "quadrados = [x**2 for x in range(1,11)]\n",
        "print(quadrados)\n"
      ],
      "metadata": {
        "id": "4pe-X1rP-INd"
      },
      "execution_count": null,
      "outputs": []
    },
    {
      "cell_type": "code",
      "source": [
        "# Exercício 9 - Crie uma list comprehension que imprima as palavras com a letra a no nome\n",
        "palavras = [\"maça\", \"coiote\", \"banana\", \"terreno\", \"Python\"] # define the list 'palavras'\n",
        "\n",
        "[palavra for palavra in palavras if \"a\" in palavra] # use the defined variable in the list comprehension"
      ],
      "metadata": {
        "colab": {
          "base_uri": "https://localhost:8080/"
        },
        "id": "AmbuB2do-6S5",
        "outputId": "14e78ec8-c7dd-4101-ab45-6f92a7485ede"
      },
      "execution_count": 17,
      "outputs": [
        {
          "output_type": "execute_result",
          "data": {
            "text/plain": [
              "['maça', 'banana']"
            ]
          },
          "metadata": {},
          "execution_count": 17
        }
      ]
    }
  ]
}