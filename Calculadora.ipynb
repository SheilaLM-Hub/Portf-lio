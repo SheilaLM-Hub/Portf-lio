{
  "nbformat": 4,
  "nbformat_minor": 0,
  "metadata": {
    "colab": {
      "provenance": []
    },
    "kernelspec": {
      "name": "python3",
      "display_name": "Python 3"
    },
    "language_info": {
      "name": "python"
    }
  },
  "cells": [
    {
      "cell_type": "code",
      "source": [
        "# Funções\n",
        "def soma(num1, num2):\n",
        "    return num1 + num2\n",
        "\n",
        "def subtracao(num1, num2):\n",
        "    return num1 - num2\n",
        "\n",
        "def multiplicacao(num1, num2):\n",
        "    return num1 * num2\n",
        "\n",
        "def divisao(num1, num2):\n",
        "    return num1 / num2"
      ],
      "metadata": {
        "id": "P08wStFJs37W"
      },
      "execution_count": 2,
      "outputs": []
    },
    {
      "cell_type": "code",
      "source": [
        " print(\"\\n******************* Calculadora em Python ******************* \\n\")\n",
        " while True:\n",
        "  print(\"Selecione o número da operação desejada:\\n\")\n",
        "  print(\"1 - Soma\"),\n",
        "  print(\"2 - Subtração\"),\n",
        "  print(\"3 - Multiplicação\"),\n",
        "  print(\"4 - Divisão \\n\")\n",
        "\n",
        "# Entrada do usuário\n",
        "  opcao = int(input(\"Digite sua opção (1/2/3/4): \"))\n",
        "# Validação da opção\n",
        "  if opcao not in range(1, 5):\n",
        "    print(\"Opção inválida! Digite um número entre 1 e 4.\")\n",
        "    continue\n",
        "\n",
        "# Processamento da opção escolhida\n",
        "  if opcao == 1:\n",
        "    num1 = float(input(\"Digite o primeiro número: \"))\n",
        "    num2 = float(input(\"Digite o segundo número: \"))\n",
        "    resultado = soma(num1, num2)\n",
        "    print(f\"O resultado da soma é: {resultado}\")\n",
        "\n",
        "  elif opcao == 2:\n",
        "    num1 = float(input(\"Digite o primeiro número: \"))\n",
        "    num2 = float(input(\"Digite o segundo número: \"))\n",
        "    resultado = subtracao(num1, num2)\n",
        "    print(f\"O resultado da subtração é: {resultado}\")\n",
        "\n",
        "  elif opcao == 3:\n",
        "    num1 = float(input(\"Digite o primeiro número: \"))\n",
        "    num2 = float(input(\"Digite o segundo número: \"))\n",
        "    resultado = multiplicacao(num1, num2)\n",
        "    print(f\"O resultado da multiplicação é: {resultado}\")\n",
        "\n",
        "  elif opcao == 4:\n",
        "    num1 = float(input(\"Digite o primeiro número: \"))\n",
        "    num2 = float(input(\"Digite o segundo número: \"))\n",
        "    resultado = divisao(num1, num2)\n",
        "    print(f\"O resultado da divisão é: {resultado}\")\n",
        "\n",
        "  #Perguntar se o usuário deseja realizar outra operação\n",
        "  continuar = input(\"Deseja realizar outra operação? (s/n): \")\n",
        "  if continuar.lower() == 'n':\n",
        "    break\n",
        "\n",
        "\n",
        ""
      ],
      "metadata": {
        "colab": {
          "base_uri": "https://localhost:8080/"
        },
        "id": "sCNe_wEntGMF",
        "outputId": "adddbe57-3b64-44c9-d247-526bb90c54cb"
      },
      "execution_count": 27,
      "outputs": [
        {
          "name": "stdout",
          "output_type": "stream",
          "text": [
            "\n",
            "******************* Calculadora em Python ******************* \n",
            "\n",
            "Selecione o número da operação desejada:\n",
            "\n",
            "1 - Soma\n",
            "2 - Subtração\n",
            "3 - Multiplicação\n",
            "4 - Divisão \n",
            "\n",
            "Digite sua opção (1/2/3/4): 4\n",
            "Digite o primeiro número: 4\n",
            "Digite o segundo número: 2\n",
            "O resultado da divisão é: 2.0\n",
            "Deseja realizar outra operação? (s/n): n\n"
          ]
        }
      ]
    }
  ]
}